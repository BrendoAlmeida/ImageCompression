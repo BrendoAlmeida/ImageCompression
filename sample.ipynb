{
 "cells": [
  {
   "metadata": {},
   "cell_type": "markdown",
   "source": "Inicializar",
   "id": "8a77807f92f26ee"
  },
  {
   "metadata": {
    "ExecuteTime": {
     "end_time": "2024-05-13T00:23:37.601544Z",
     "start_time": "2024-05-13T00:23:37.591688Z"
    }
   },
   "cell_type": "code",
   "source": [
    "import os\n",
    "from PIL import Image\n",
    "from image_similarity_measures.evaluate import evaluation\n",
    "\n",
    "def get_size_format(b, factor=1024, suffix=\"B\"):\n",
    "    for unit in [\"\", \"K\", \"M\", \"G\", \"T\", \"P\", \"E\", \"Z\"]:\n",
    "        if b < factor:\n",
    "            return f\"{b:.2f}{unit}{suffix}\"\n",
    "        b /= factor\n",
    "    return f\"{b:.2f}Y{suffix}\"\n",
    "\n",
    "\n",
    "if not os.path.exists(\"input\"):\n",
    "    os.makedirs(\"input\")\n",
    "    \n",
    "if not os.path.exists(\"output\"):\n",
    "    os.makedirs(\"output\")"
   ],
   "id": "fbc121e30a2defb3",
   "outputs": [],
   "execution_count": 4
  },
  {
   "metadata": {
    "ExecuteTime": {
     "end_time": "2024-05-13T01:23:15.783426Z",
     "start_time": "2024-05-13T01:23:15.529022Z"
    }
   },
   "cell_type": "code",
   "source": [
    "def compression(path, outputPath = \"output\", quality = 90, extension = None, optimize = False):\n",
    "    img = Image.open(path)\n",
    "    imgSize = os.path.getsize(path)\n",
    "    nameImg, imgExtenssion = os.path.splitext(os.path.basename(path))\n",
    "    outputPath = f\"{outputPath}/{nameImg}\"\n",
    "    \n",
    "    if extension is None:\n",
    "        extension = imgExtenssion\n",
    "        \n",
    "    if not os.path.exists(outputPath):\n",
    "        os.makedirs(outputPath)\n",
    "    \n",
    "    outputFilePath = f\"{outputPath}/{nameImg}_compressed_{quality}{extension}\"\n",
    "    img.save(outputFilePath, quality = quality, optimize = optimize)\n",
    "    compressedSize = os.path.getsize(outputFilePath)\n",
    "    \n",
    "    # print(imgSize)\n",
    "    \n",
    "    print(f\"in quality {quality} redution of {(imgSize-compressedSize)/imgSize*100:.2f}%\")\n",
    "\n",
    "qualities = range(10,100,10)\n",
    "for quality in qualities:\n",
    "    compression(\"input/Imagem112KB.jpg\", \"output\", quality, None, True)"
   ],
   "id": "5865c52ece6a1f0",
   "outputs": [
    {
     "name": "stdout",
     "output_type": "stream",
     "text": [
      "in quality 10 redution of 92.94%\n",
      "in quality 20 redution of 89.09%\n",
      "in quality 30 redution of 84.97%\n",
      "in quality 40 redution of 80.75%\n",
      "in quality 50 redution of 77.20%\n",
      "in quality 60 redution of 71.63%\n",
      "in quality 70 redution of 65.45%\n",
      "in quality 80 redution of 41.30%\n",
      "in quality 90 redution of 14.10%\n"
     ]
    }
   ],
   "execution_count": 40
  },
  {
   "metadata": {},
   "cell_type": "code",
   "source": "Image.open(\"input/Imagem112KB.jpg\")",
   "id": "ad052e7cb0a8fc8a",
   "outputs": [],
   "execution_count": null
  },
  {
   "metadata": {},
   "cell_type": "code",
   "outputs": [],
   "execution_count": null,
   "source": "",
   "id": "85757b13c7129721"
  }
 ],
 "metadata": {
  "kernelspec": {
   "display_name": "Python 3",
   "language": "python",
   "name": "python3"
  },
  "language_info": {
   "codemirror_mode": {
    "name": "ipython",
    "version": 2
   },
   "file_extension": ".py",
   "mimetype": "text/x-python",
   "name": "python",
   "nbconvert_exporter": "python",
   "pygments_lexer": "ipython2",
   "version": "2.7.6"
  }
 },
 "nbformat": 4,
 "nbformat_minor": 5
}
