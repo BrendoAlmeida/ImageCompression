{
 "cells": [
  {
   "metadata": {},
   "cell_type": "markdown",
   "source": "Inicializar",
   "id": "8a77807f92f26ee"
  },
  {
   "metadata": {
    "ExecuteTime": {
     "end_time": "2024-05-13T12:36:19.480069Z",
     "start_time": "2024-05-13T12:35:51.819636Z"
    }
   },
   "cell_type": "code",
   "source": [
    "import os\n",
    "from PIL import Image\n",
    "from image_similarity_measures.evaluate import evaluation\n",
    "import bitmath\n",
    "import matplotlib.pyplot as plt\n",
    "\n",
    "def get_size_format(b, factor=1024, suffix=\"B\"):\n",
    "    for unit in [\"\", \"K\", \"M\", \"G\", \"T\", \"P\", \"E\", \"Z\"]:\n",
    "        if b < factor:\n",
    "            return f\"{b:.2f}{unit}{suffix}\"\n",
    "        b /= factor\n",
    "    return f\"{b:.2f}Y{suffix}\"\n",
    "\n",
    "\n",
    "if not os.path.exists(\"input\"):\n",
    "    os.makedirs(\"input\")\n",
    "    \n",
    "if not os.path.exists(\"output\"):\n",
    "    os.makedirs(\"output\")"
   ],
   "id": "fbc121e30a2defb3",
   "outputs": [],
   "execution_count": 1
  },
  {
   "metadata": {},
   "cell_type": "markdown",
   "source": "Comprimir",
   "id": "a8cf0ec6391d4104"
  },
  {
   "metadata": {},
   "cell_type": "code",
   "source": [
    "def compression(path, outputPath = \"output\", quality = 90, extension = None, optimize = False):\n",
    "    img = Image.open(path)\n",
    "    imgSize = os.path.getsize(path)\n",
    "    nameImg, imgExtenssion = os.path.splitext(os.path.basename(path))\n",
    "    outputPath = f\"{outputPath}/{nameImg}\"\n",
    "    \n",
    "    if extension is None:\n",
    "        extension = imgExtenssion\n",
    "        \n",
    "    if not os.path.exists(outputPath):\n",
    "        os.makedirs(outputPath)\n",
    "    \n",
    "    outputFilePath = f\"{outputPath}/{nameImg}_compressed_{quality}{extension}\"\n",
    "    img.save(outputFilePath, quality = quality, optimize = optimize)\n",
    "    compressedSize = os.path.getsize(outputFilePath)\n",
    "    \n",
    "    print(f\"in quality {quality} redution of {(imgSize-compressedSize)/imgSize*100:.2f}%\")\n",
    "\n",
    "\n",
    "\n",
    "qualities = range(10,100,10)\n",
    "for quality in qualities:\n",
    "    compression(\"input/Imagem112KB.jpg\", \"output\", quality, None, True)"
   ],
   "id": "5865c52ece6a1f0",
   "outputs": [],
   "execution_count": null
  },
  {
   "metadata": {},
   "cell_type": "markdown",
   "source": "Analize da redução de qualidade (Perda de qualidade em função do nivel de compressão)",
   "id": "3ef04696db569089"
  },
  {
   "metadata": {},
   "cell_type": "code",
   "source": [
    "def qualityLoss(img, dir = \"output\", x = qualities, metric = \"psnr\"):\n",
    "    y = []\n",
    "    imgName, imgExtension = os.path.splitext(img)\n",
    "    for compressedImg in os.listdir(f\"{dir}/{imgName}\"):\n",
    "        y.append(evaluation(f\"input/{img}\", f\"{dir}/{imgName}/{compressedImg}\", [metric])[metric])\n",
    "        \n",
    "    plt.plot(x, y, marker='o')\n",
    "    plt.xlabel(\"Qualidade [%]\")\n",
    "    plt.ylabel(\"PSNR [dB]\")\n",
    "    plt.title(f\"Perda de qualidade em imagens comprimidas ({get_size_format(os.path.getsize('input/'+img))})\")\n",
    "    plt.show()\n",
    "    \n",
    "\n",
    "qualityLoss(\"Imagem112KB.jpg\")\n",
    "qualityLoss(\"Imagem4MB.jpg\")"
   ],
   "id": "9fbe49c170eaa512",
   "outputs": [],
   "execution_count": null
  },
  {
   "metadata": {},
   "cell_type": "code",
   "outputs": [],
   "execution_count": null,
   "source": "",
   "id": "d585fba9deb23f85"
  }
 ],
 "metadata": {
  "kernelspec": {
   "display_name": "Python 3",
   "language": "python",
   "name": "python3"
  },
  "language_info": {
   "codemirror_mode": {
    "name": "ipython",
    "version": 2
   },
   "file_extension": ".py",
   "mimetype": "text/x-python",
   "name": "python",
   "nbconvert_exporter": "python",
   "pygments_lexer": "ipython2",
   "version": "2.7.6"
  }
 },
 "nbformat": 4,
 "nbformat_minor": 5
}
