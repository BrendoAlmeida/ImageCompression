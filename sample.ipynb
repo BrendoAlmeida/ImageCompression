{
 "cells": [
  {
   "metadata": {},
   "cell_type": "markdown",
   "source": "Inicializar",
   "id": "8a77807f92f26ee"
  },
  {
   "metadata": {
    "ExecuteTime": {
     "end_time": "2024-05-13T14:24:43.767475Z",
     "start_time": "2024-05-13T14:24:42.876929Z"
    }
   },
   "cell_type": "code",
   "source": [
    "import os\n",
    "import shutil\n",
    "from PIL import Image\n",
    "from image_similarity_measures.evaluate import evaluation\n",
    "import bitmath\n",
    "import matplotlib.pyplot as plt\n",
    "import cv2\n",
    "\n",
    "def get_size_format(b, factor=1024, suffix=\"B\"):\n",
    "    for unit in [\"\", \"K\", \"M\", \"G\", \"T\", \"P\", \"E\", \"Z\"]:\n",
    "        if b < factor:\n",
    "            return f\"{b:.2f}{unit}{suffix}\"\n",
    "        b /= factor\n",
    "    return f\"{b:.2f}Y{suffix}\"\n",
    "\n",
    "\n",
    "if not os.path.exists(\"input\"):\n",
    "    os.makedirs(\"input\")\n",
    "    \n",
    "if not os.path.exists(\"output\"):\n",
    "    os.makedirs(\"output\")"
   ],
   "id": "fbc121e30a2defb3",
   "outputs": [],
   "execution_count": 1
  },
  {
   "metadata": {},
   "cell_type": "markdown",
   "source": "Limpar output",
   "id": "edb9ef26444413f4"
  },
  {
   "metadata": {
    "ExecuteTime": {
     "end_time": "2024-05-13T14:29:44.586367Z",
     "start_time": "2024-05-13T14:29:44.572779Z"
    }
   },
   "cell_type": "code",
   "source": [
    "def limpar(dir):\n",
    "    if os.path.exists(dir):\n",
    "        shutil.rmtree(dir)\n",
    "        os.makedirs(dir)\n",
    "    \n",
    "limpar(\"output\")\n",
    "limpar(\"outputCV2\")    \n",
    "limpar(\"decompressed\")"
   ],
   "id": "6ec5ca98fe3b58a7",
   "outputs": [],
   "execution_count": 13
  },
  {
   "metadata": {},
   "cell_type": "markdown",
   "source": "Ativar graficos interativos",
   "id": "bd5e3eaaa7a777a6"
  },
  {
   "metadata": {
    "ExecuteTime": {
     "end_time": "2024-05-13T14:25:34.222402Z",
     "start_time": "2024-05-13T14:25:34.216830Z"
    }
   },
   "cell_type": "code",
   "source": "%matplotlib notebook",
   "id": "e237c3804c1825a8",
   "outputs": [],
   "execution_count": 5
  },
  {
   "metadata": {},
   "cell_type": "markdown",
   "source": "Desativar Graficos interativos",
   "id": "887140e8b23a55dd"
  },
  {
   "metadata": {},
   "cell_type": "code",
   "execution_count": 6,
   "source": "%matplotlib inline",
   "id": "bb44c1b4e092bdf5",
   "outputs": []
  },
  {
   "metadata": {},
   "cell_type": "markdown",
   "source": "Comprimir",
   "id": "a8cf0ec6391d4104"
  },
  {
   "metadata": {},
   "cell_type": "code",
   "source": [
    "def compression_pillow(path, outputPath = \"output\", quality = 90, extension = None, optimize = False):\n",
    "    img = Image.open(path)\n",
    "    imgSize = os.path.getsize(path)\n",
    "    nameImg, imgExtenssion = os.path.splitext(os.path.basename(path))\n",
    "    outputPath = f\"{outputPath}/{nameImg}\"\n",
    "    \n",
    "    if extension is None:\n",
    "        extension = imgExtenssion\n",
    "        \n",
    "    if not os.path.exists(outputPath):\n",
    "        os.makedirs(outputPath)\n",
    "    \n",
    "    outputFilePath = f\"{outputPath}/{nameImg}_compressed_{quality}{extension}\"\n",
    "    img.save(outputFilePath, quality = quality, optimize = optimize)\n",
    "    compressedSize = os.path.getsize(outputFilePath)\n",
    "    \n",
    "    print(f\"{nameImg}: in quality {quality} redution of {(imgSize-compressedSize)/imgSize*100:.2f}%. Size {get_size_format(compressedSize)}\")\n",
    "\n",
    "\n",
    "\n",
    "qualities = range(10,100,10)\n",
    "for quality in qualities:\n",
    "    compression_pillow(\"input/Imagem112KB.jpg\", \"output\", quality, None, True)\n",
    "    compression_pillow(\"input/Imagem4MB.jpg\", \"output\", quality, None, True)\n",
    "    print(\"=\"*50)"
   ],
   "id": "5865c52ece6a1f0",
   "outputs": [],
   "execution_count": null
  },
  {
   "metadata": {},
   "cell_type": "markdown",
   "source": "Compressão com OpenCV",
   "id": "7efc114c7920ffd2"
  },
  {
   "metadata": {},
   "cell_type": "code",
   "source": [
    "def compression_cv2(path, outputPath = \"outputCV2\", quality = 90, extension = None):\n",
    "    img = cv2.imread(path)\n",
    "    encode_param = [int(cv2.IMWRITE_JPEG_QUALITY), quality]\n",
    "    imgSize = os.path.getsize(path)\n",
    "    nameImg, imgExtenssion = os.path.splitext(os.path.basename(path))\n",
    "    outputPath = f\"{outputPath}/{nameImg}\"\n",
    "\n",
    "    if extension is None:\n",
    "        extension = imgExtenssion\n",
    "        \n",
    "    if not os.path.exists(outputPath):\n",
    "        os.makedirs(outputPath)\n",
    "\n",
    "    outputFilePath = f\"{outputPath}/{nameImg}_compressed_{quality}{extension}\"\n",
    "\n",
    "    result, encimg = cv2.imencode(extension, img, encode_param)\n",
    "    \n",
    "    with open(outputFilePath, 'wb') as f:\n",
    "        f.write(encimg)\n",
    "    \n",
    "    compressedSize = os.path.getsize(outputFilePath)\n",
    "    print(f\"{nameImg}: in quality {quality} redution of {(imgSize-compressedSize)/imgSize*100:.2f}%. Size {get_size_format(compressedSize)}\")\n",
    "    \n",
    "    \n",
    "qualities = range(10,100,10)\n",
    "for quality in qualities:\n",
    "    compression_cv2(\"input/Imagem112KB.jpg\", \"outputCV2\", quality, None)\n",
    "    compression_cv2(\"input/Imagem4MB.jpg\", \"outputCV2\", quality, None)\n",
    "    print(\"=\"*50)"
   ],
   "id": "23aaad5c8c421ea",
   "outputs": [],
   "execution_count": null
  },
  {
   "metadata": {},
   "cell_type": "markdown",
   "source": "Descompressão de imagens comprimidas com opencv (não traz resultados significativos)",
   "id": "bbda82deb24b1ad1"
  },
  {
   "metadata": {
    "ExecuteTime": {
     "end_time": "2024-05-13T20:15:38.477489Z",
     "start_time": "2024-05-13T20:15:33.612828Z"
    }
   },
   "cell_type": "code",
   "source": [
    "def decompression_cv2(nameImg, dir, extension = \".jpg\"):\n",
    "    encode_param = [int(cv2.IMWRITE_JPEG_QUALITY), 90]\n",
    "    for compressedImg in os.listdir(f\"{dir}/{nameImg}\"):\n",
    "        compressedImgName = os.path.splitext(compressedImg)[0]\n",
    "        img = cv2.imread(f\"{dir}/{nameImg}/{compressedImg}\")\n",
    "        result, encimg = cv2.imencode(extension, img, encode_param)\n",
    "        decimg = cv2.imdecode(encimg, cv2.IMREAD_COLOR)\n",
    "    \n",
    "        cv2.imwrite(f\"decompressed/{nameImg}/{compressedImgName}{extension}\", decimg) \n",
    "        \n",
    "        \n",
    "decompression_cv2(\"Imagem4MB\", \"outputCV2\")"
   ],
   "id": "3f8c95bfbf380171",
   "outputs": [],
   "execution_count": 52
  },
  {
   "metadata": {},
   "cell_type": "markdown",
   "source": "Analize da redução de qualidade (Perda de qualidade em função do nivel de compressão)",
   "id": "3ef04696db569089"
  },
  {
   "metadata": {
    "ExecuteTime": {
     "end_time": "2024-05-13T20:16:27.537219Z",
     "start_time": "2024-05-13T20:16:22.545330Z"
    }
   },
   "cell_type": "code",
   "source": [
    "def qualityLoss(img, dir = \"output\", x = qualities, metric = \"psnr\"):\n",
    "    y = []\n",
    "    imgName, imgExtension = os.path.splitext(img)\n",
    "    for compressedImg in os.listdir(f\"{dir}/{imgName}\"):\n",
    "        y.append(evaluation(f\"input/{img}\", f\"{dir}/{imgName}/{compressedImg}\", [metric])[metric])\n",
    "        \n",
    "    plt.plot(x, y, marker='o')\n",
    "    plt.xlabel(\"Qualidade [%]\")\n",
    "    plt.ylabel(\"PSNR [dB]\")\n",
    "    plt.title(f\"Perda de qualidade em imagens comprimidas ({get_size_format(os.path.getsize('input/'+img))})\")\n",
    "    plt.show()\n",
    "    \n",
    "\n",
    "# qualityLoss(\"Imagem112KB.jpg\", \"outputCV2\")\n",
    "qualityLoss(\"Imagem4MB.jpg\", \"decompressed\")"
   ],
   "id": "9fbe49c170eaa512",
   "outputs": [
    {
     "data": {
      "text/plain": [
       "<Figure size 640x480 with 1 Axes>"
      ],
      "image/png": "[encoded data removed]"
     },
     "metadata": {},
     "output_type": "display_data"
    }
   ],
   "execution_count": 53
  },
  {
   "metadata": {},
   "cell_type": "markdown",
   "source": "Analize da redução de qualidade (Perda de qualidade em função do tamanho da imagem comprimida)",
   "id": "f6293f4e09c769d1"
  },
  {
   "metadata": {},
   "cell_type": "code",
   "source": [
    "def sizeLoss(img, dir = \"output\", metric = \"psnr\"):\n",
    "    y = []\n",
    "    x = []\n",
    "    imgName, imgExtension = os.path.splitext(img)\n",
    "    for compressedImg in os.listdir(f\"{dir}/{imgName}\"):\n",
    "        pathCompressedImg = f\"{dir}/{imgName}/{compressedImg}\"\n",
    "        y.append(evaluation(f\"input/{img}\", pathCompressedImg, [metric])[metric])\n",
    "        x.append(bitmath.getsize(pathCompressedImg).to_kB().value)\n",
    "        \n",
    "    plt.plot(x, y, marker='o')\n",
    "    # plt.xticks(range(int(min(x)), int(max(x))+1, int(max(x)*0.10)))\n",
    "    plt.xlabel(\"Tamanho [KB]\")\n",
    "    plt.ylabel(\"PSNR [dB]\")\n",
    "    plt.title(f\"Perda de qualidade em imagens comprimidas ({get_size_format(os.path.getsize('input/'+img))})\")\n",
    "    plt.show()\n",
    "    \n",
    "    \n",
    "# sizeLoss(\"Imagem112KB.jpg\", \"outputCV2\")\n",
    "sizeLoss(\"Imagem4MB.jpg\", \"decompressed\")"
   ],
   "id": "d585fba9deb23f85",
   "outputs": [],
   "execution_count": null
  },
  {
   "metadata": {},
   "cell_type": "code",
   "outputs": [],
   "execution_count": null,
   "source": "",
   "id": "717c090e6e1044dd"
  }
 ],
 "metadata": {
  "kernelspec": {
   "display_name": "Python 3",
   "language": "python",
   "name": "python3"
  },
  "language_info": {
   "codemirror_mode": {
    "name": "ipython",
    "version": 2
   },
   "file_extension": ".py",
   "mimetype": "text/x-python",
   "name": "python",
   "nbconvert_exporter": "python",
   "pygments_lexer": "ipython2",
   "version": "2.7.6"
  }
 },
 "nbformat": 4,
 "nbformat_minor": 5
}
